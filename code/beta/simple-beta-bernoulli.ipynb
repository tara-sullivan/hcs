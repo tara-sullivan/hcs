{
 "cells": [
  {
   "cell_type": "code",
   "execution_count": 2,
   "metadata": {},
   "outputs": [],
   "source": [
    "import numpy as np\n",
    "import matplotlib.pyplot as plt\n",
    "\n",
    "from scipy.stats import beta\n",
    "from scipy.stats import binom\n",
    "\n",
    "import matplotlib.pyplot as plt\n",
    "%matplotlib inline\n",
    "\n",
    "rdm = np.random.RandomState(10)"
   ]
  },
  {
   "cell_type": "markdown",
   "metadata": {},
   "source": [
    "https://github.com/jesusfv/Comparison-Programming-Languages-Economics/blob/master/RBC_Python_Numba.py"
   ]
  },
  {
   "cell_type": "code",
   "execution_count": 23,
   "metadata": {},
   "outputs": [],
   "source": [
    "# Parameterization\n",
    "\n",
    "# Main parameters\n",
    "v = 1\n",
    "delta = 0.96\n",
    "# a0_f, b0_f = 3*1, 2*1\n",
    "# a0_m, b0_m = a0_f*2, b0_f*2\n",
    "#a_f, b_f = 3*2, 1*2\n",
    "#a_m, b_m = a_f*3, b_f*3\n",
    "\n",
    "\n",
    "# System parameters\n",
    "sim_num = 100\n",
    "# Tscale = np.nan\n",
    "# yrs_GenEd = 12\n",
    "# N = \n",
    "# yrs_InitEd = \n",
    "\n",
    "# Auxillary parameters \n",
    "dd = np.ceil(delta/(1-delta))\n",
    "# t_GenEd\n",
    "\n",
    "field_i = np.empty(sim_num,dtype=float)\n",
    "state_i = np.empty((sim_num,2),dtype=float)"
   ]
  },
  {
   "cell_type": "code",
   "execution_count": 24,
   "metadata": {},
   "outputs": [],
   "source": [
    "def get_index(ab_t,v=1,delta=0.96):\n",
    "    '''\n",
    "    ab_t  : current state\n",
    "    \n",
    "    c_t + α_0 + β_0 = α_t + β_t\n",
    "    '''\n",
    "    dd = np.ceil(delta/(1-delta))\n",
    "    # Payoff associated with studying an additional period\n",
    "    study_payoff = (dd*delta**(dd - (np.sum(ab_t,axis=1))))/(np.sum(ab_t,axis=1))\n",
    "    I_t = (ab_t[:,0]*v)/(1 - delta)*study_payoff\n",
    "    # Find if in graduation region\n",
    "    G_idx = np.argwhere(c_0 > dd - np.sum(ab_t,axis=1))\n",
    "    # Augment index if graduating\n",
    "    I_t[G_idx] = ((ab_t[:,0]*v)/(1 - delta))[G_idx]\n",
    "\n",
    "    return(I_t)"
   ]
  },
  {
   "cell_type": "code",
   "execution_count": 25,
   "metadata": {},
   "outputs": [],
   "source": [
    "# Index for each skill\n",
    "# ab_0 = np.array([[3,2],[1,1]],dtype=float)\n",
    "ab_0 = np.array([[3,2],[4,3]],dtype=float)\n",
    "# number of courses taken\n",
    "c_0 = np.array([0,0],dtype=int)\n",
    "\n",
    "# Number of fields\n",
    "N_j = np.size(ab_0,axis=0)\n",
    "\n",
    "# course history\n",
    "c_history = np.array([])\n",
    "\n",
    "# true value of theta\n",
    "p_true = np.random.beta(ab_0[:,0],ab_0[:,1])"
   ]
  },
  {
   "cell_type": "code",
   "execution_count": 28,
   "metadata": {},
   "outputs": [
    {
     "data": {
      "text/plain": [
       "array([ 0., 17.])"
      ]
     },
     "execution_count": 28,
     "metadata": {},
     "output_type": "execute_result"
    }
   ],
   "source": [
    "# Initialize\n",
    "ab_t = np.copy(ab_0)\n",
    "c_t = np.zeros(np.size(ab_0,axis=0))\n",
    "\n",
    "I_t = get_index(ab_t)\n",
    "\n",
    "keep_studying = 1\n",
    "while keep_studying == 1:\n",
    "    # Find the largest indices (there may be more than one)\n",
    "    max_j = np.reshape(np.argwhere(I_t == np.max(I_t)),(-1,))\n",
    "    # Randomly choose largest index\n",
    "    choose_j = np.random.choice(max_j)\n",
    "    \n",
    "    if np.sum(ab_t[choose_j,:]) >= dd:\n",
    "        keep_studying = 0\n",
    "    else:\n",
    "        # study\n",
    "        c_t[choose_j] = c_t[choose_j] + 1\n",
    "        outcome_j = np.random.binomial(1,p_true[choose_j])\n",
    "        # update skills\n",
    "        ab_t[choose_j,:] = ab_t[choose_j,:] + np.array([outcome_j, 1-outcome_j])\n",
    "        # update index\n",
    "        I_t = get_index(ab_t)   \n",
    "\n",
    "# update state space\n",
    "c_t"
   ]
  },
  {
   "cell_type": "code",
   "execution_count": 29,
   "metadata": {},
   "outputs": [
    {
     "data": {
      "text/plain": [
       "array([19., 17.])"
      ]
     },
     "execution_count": 29,
     "metadata": {},
     "output_type": "execute_result"
    }
   ],
   "source": [
    "# delta/(1-delta) - np.sum(ab_0,axis=1)\n",
    "\n",
    "np.sum(ab_t[choose_j])\n",
    "\n",
    "dd - np.sum(ab_0,axis=1)\n",
    "\n",
    "# Why am I getting the correct number of courses is +1 in this example?"
   ]
  },
  {
   "cell_type": "code",
   "execution_count": 4,
   "metadata": {},
   "outputs": [],
   "source": [
    "\n",
    "\n",
    "# Mean and sample size\n",
    "mu0_m = beta.moment(1,a0_m,b0_m)\n",
    "mu0_f = beta.moment(1,a0_f,b0_f)\n",
    "n0_m, n0_f = a0_m + b0_m, a0_f + b0_f\n",
    "\n",
    "x = np.linspace(0,1,1000)\n",
    "\n"
   ]
  },
  {
   "cell_type": "code",
   "execution_count": 6,
   "metadata": {},
   "outputs": [
    {
     "data": {
      "text/plain": [
       "3"
      ]
     },
     "execution_count": 6,
     "metadata": {},
     "output_type": "execute_result"
    }
   ],
   "source": []
  },
  {
   "cell_type": "code",
   "execution_count": 5,
   "metadata": {},
   "outputs": [
    {
     "name": "stdout",
     "output_type": "stream",
     "text": [
      "21.22 24.51\n",
      "-2.42\n",
      "-2.28\n",
      "0.088\n",
      "0.102\n"
     ]
    }
   ],
   "source": [
    "\n",
    "nu = 1/10\n",
    "\n",
    "c_j_m = np.ceil(delta/(1-delta)) - n_m\n",
    "c_j_f = np.ceil(delta/(1-delta)) - n_f\n",
    "\n",
    "h_j0_m = round(a0_m*nu,1)\n",
    "h_j0_f = round(a0_f*nu,1)\n",
    "\n",
    "\n",
    "\n",
    "c_jt = 7 # uh oh 10 doesnt' work is this correct?\n",
    "h_jt = .8\n",
    "# implies \n",
    "a_jt_m, a_jt_w = h_jt/nu, h_jt/nu\n",
    "\n",
    "#a_jt_f = (h_jt - h_j0_f)/nu + a_f\n",
    "#a_jt_m = (h_jt - h_j0_m)/nu + a_m\n",
    "\n",
    "I_jt_m = (h_jt/(1-delta))*(dd*delta**(dd - c_jt - n_m))/(c_jt + n_m)\n",
    "I_jt_f = (h_jt/(1-delta))*(dd*delta**(dd - c_jt - n_f))/(c_jt + n_f)\n",
    "\n",
    "print(round(I_jt_m,2), round(I_jt_f,2))\n",
    "\n",
    "delta**(-n_f), delta**(-n_m)\n",
    "\n",
    "print(round(-n_m*np.log(delta) - np.log(c_jt + n_m),2))\n",
    "print(round(-n_f*np.log(delta) - np.log(c_jt + n_f),2))\n",
    "\n",
    "print(round(delta**(-n_m)/(c_jt + n_m),3))\n",
    "print(round(delta**(-n_f)/(c_jt + n_f),3))"
   ]
  }
 ],
 "metadata": {
  "kernelspec": {
   "display_name": "Python 3",
   "language": "python",
   "name": "python3"
  },
  "language_info": {
   "codemirror_mode": {
    "name": "ipython",
    "version": 3
   },
   "file_extension": ".py",
   "mimetype": "text/x-python",
   "name": "python",
   "nbconvert_exporter": "python",
   "pygments_lexer": "ipython3",
   "version": "3.6.9"
  }
 },
 "nbformat": 4,
 "nbformat_minor": 4
}

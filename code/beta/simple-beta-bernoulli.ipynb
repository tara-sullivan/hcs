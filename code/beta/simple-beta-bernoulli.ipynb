{
 "cells": [
  {
   "cell_type": "code",
   "execution_count": 1,
   "metadata": {},
   "outputs": [],
   "source": [
    "import numpy as np\n",
    "import matplotlib.pyplot as plt\n",
    "\n",
    "from scipy.stats import beta\n",
    "\n",
    "import matplotlib.pyplot as plt\n",
    "%matplotlib inline"
   ]
  },
  {
   "cell_type": "code",
   "execution_count": 4,
   "metadata": {},
   "outputs": [],
   "source": [
    "a0_f, b0_f = 3*1, 2*1\n",
    "a0_m, b0_m = a0_f*2, b0_f*2\n",
    "#a_f, b_f = 3*2, 1*2\n",
    "#a_m, b_m = a_f*3, b_f*3\n",
    "\n",
    "# Mean and sample size\n",
    "mu0_m = beta.moment(1,a0_m,b0_m)\n",
    "mu0_f = beta.moment(1,a0_f,b0_f)\n",
    "n0_m, n0_f = a0_m + b0_m, a0_f + b0_f\n",
    "\n",
    "x = np.linspace(0,1,1000)\n",
    "\n"
   ]
  },
  {
   "cell_type": "code",
   "execution_count": 6,
   "metadata": {},
   "outputs": [
    {
     "data": {
      "text/plain": [
       "3"
      ]
     },
     "execution_count": 6,
     "metadata": {},
     "output_type": "execute_result"
    }
   ],
   "source": []
  },
  {
   "cell_type": "code",
   "execution_count": 5,
   "metadata": {},
   "outputs": [
    {
     "name": "stdout",
     "output_type": "stream",
     "text": [
      "21.22 24.51\n",
      "-2.42\n",
      "-2.28\n",
      "0.088\n",
      "0.102\n"
     ]
    }
   ],
   "source": [
    "delta = 0.96\n",
    "nu = 1/10\n",
    "\n",
    "c_j_m = np.ceil(delta/(1-delta)) - n_m\n",
    "c_j_f = np.ceil(delta/(1-delta)) - n_f\n",
    "\n",
    "h_j0_m = round(a0_m*nu,1)\n",
    "h_j0_f = round(a0_f*nu,1)\n",
    "\n",
    "dd = np.ceil(delta/(1-delta))\n",
    "\n",
    "c_jt = 7 # uh oh 10 doesnt' work is this correct?\n",
    "h_jt = .8\n",
    "# implies \n",
    "a_jt_m, a_jt_w = h_jt/nu, h_jt/nu\n",
    "\n",
    "#a_jt_f = (h_jt - h_j0_f)/nu + a_f\n",
    "#a_jt_m = (h_jt - h_j0_m)/nu + a_m\n",
    "\n",
    "I_jt_m = (h_jt/(1-delta))*(dd*delta**(dd - c_jt - n_m))/(c_jt + n_m)\n",
    "I_jt_f = (h_jt/(1-delta))*(dd*delta**(dd - c_jt - n_f))/(c_jt + n_f)\n",
    "\n",
    "print(round(I_jt_m,2), round(I_jt_f,2))\n",
    "\n",
    "delta**(-n_f), delta**(-n_m)\n",
    "\n",
    "print(round(-n_m*np.log(delta) - np.log(c_jt + n_m),2))\n",
    "print(round(-n_f*np.log(delta) - np.log(c_jt + n_f),2))\n",
    "\n",
    "print(round(delta**(-n_m)/(c_jt + n_m),3))\n",
    "print(round(delta**(-n_f)/(c_jt + n_f),3))"
   ]
  }
 ],
 "metadata": {
  "kernelspec": {
   "display_name": "Python 3",
   "language": "python",
   "name": "python3"
  },
  "language_info": {
   "codemirror_mode": {
    "name": "ipython",
    "version": 3
   },
   "file_extension": ".py",
   "mimetype": "text/x-python",
   "name": "python",
   "nbconvert_exporter": "python",
   "pygments_lexer": "ipython3",
   "version": "3.7.4"
  }
 },
 "nbformat": 4,
 "nbformat_minor": 4
}

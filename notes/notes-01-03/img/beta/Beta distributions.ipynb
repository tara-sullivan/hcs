{
 "cells": [
  {
   "cell_type": "code",
   "execution_count": 1,
   "metadata": {},
   "outputs": [],
   "source": [
    "import pandas as pd\n",
    "import numpy as np\n",
    "import math\n",
    "\n",
    "from scipy.stats import beta"
   ]
  },
  {
   "cell_type": "code",
   "execution_count": 49,
   "metadata": {},
   "outputs": [],
   "source": [
    "import matplotlib.pyplot as plt\n",
    "%matplotlib inline\n",
    "\n",
    "font_size = 9\n",
    "\n",
    "params = {'text.usetex' : True,\n",
    "          'pgf.rcfonts' : False,\n",
    "          'pgf.preamble' : [r\"\\usepackage[utf8]{inputenc}\",\n",
    "                            r\"\\usepackage[T1]{fontenc}\"],\n",
    "          'font.family' : 'serif',\n",
    "          'font.size' : font_size,        # controls default text sizes\n",
    "          'axes.titlesize' : font_size,   # fontsize of the axes title\n",
    "          'axes.labelsize' : font_size,   # fontsize of the x and y labels\n",
    "          'xtick.labelsize' : font_size,  # fontsize of the tick labels\n",
    "          'ytick.labelsize' : font_size,  # fontsize of the tick labels\n",
    "          'legend.fontsize' : font_size,  # legend fontsize\n",
    "          'figure.titlesize' : font_size, # fontsize of the figure title\n",
    "          }\n",
    "plt.rcParams.update(params)\n",
    "\n",
    "# Figure width and height\n",
    "textwidth=6.50127\n",
    "\n",
    "fig_width = textwidth/2\n",
    "golden_mean = (math.sqrt(5)-1.0)/2.0\n",
    "fig_height = fig_width*golden_mean\n",
    "\n",
    "#fw = textwidth*.6\n",
    "#fh = fw*matplotlib.rcParams['figure.figsize'][1]/\\\n",
    "#matplotlib.rcParams['figure.figsize'] [0]\n",
    "\n"
   ]
  },
  {
   "cell_type": "code",
   "execution_count": 159,
   "metadata": {
    "scrolled": true
   },
   "outputs": [
    {
     "data": {
      "image/png": "[encoded data removed]",
      "text/plain": [
       "<Figure size 234.046x144.648 with 1 Axes>"
      ]
     },
     "metadata": {
      "needs_background": "light"
     },
     "output_type": "display_data"
    }
   ],
   "source": [
    "a_f, b_f = 3*1, 2*1\n",
    "a_m, b_m = a_f*2, b_f*2\n",
    "#a_f, b_f = 3*2, 1*2\n",
    "#a_m, b_m = a_f*3, b_f*3\n",
    "\n",
    "# Mean and sample size\n",
    "mu_m = beta.moment(1,a_m,b_m)\n",
    "mu_f = beta.moment(1,a_f,b_f)\n",
    "n_m, n_f = a_m + b_m, a_f + b_f\n",
    "\n",
    "x = np.linspace(0,1,1000)\n",
    "\n",
    "fig = plt.figure()\n",
    "ax = plt.axes()\n",
    "\n",
    "ax.plot(x, beta.pdf(x,a_m,b_m), \n",
    "        label='Men \\n($\\mu = $' + str(round(mu_m,2)) \n",
    "        + ', $n = $' + str(n_m)\n",
    "        + ')')\n",
    "ax.plot(x, beta.pdf(x,a_f,b_f), \n",
    "        label='Women \\n($\\mu = $' + str(round(mu_f,2)) \n",
    "        + ', $n = $' + str(n_f)\n",
    "        + ')')\n",
    "\n",
    "ax.legend(loc='upper left',\n",
    "          handlelength=0.5,\n",
    "          frameon=False,\n",
    "          borderpad=0)\n",
    "ax.set_title('PDF of Beta distribution')\n",
    "\n",
    "#fig.set_size_inches(w=fw,h=fh)\n",
    "fig.set_size_inches(fig_width,fig_height) \n",
    "plt.savefig('beta_example.pgf',\n",
    "            #This is simple recomendation for publication plots\n",
    "            dpi=1000, \n",
    "            # Plot will be occupy a maximum of available space\n",
    "            bbox_inches='tight', \n",
    "            )\n"
   ]
  },
  {
   "cell_type": "code",
   "execution_count": 272,
   "metadata": {},
   "outputs": [
    {
     "name": "stdout",
     "output_type": "stream",
     "text": [
      "21.22 24.51\n",
      "-2.42\n",
      "-2.28\n",
      "0.088\n",
      "0.102\n"
     ]
    }
   ],
   "source": [
    "delta = 0.96\n",
    "nu = 1/10\n",
    "\n",
    "c_j_m = np.ceil(delta/(1-delta)) - n_m\n",
    "c_j_f = np.ceil(delta/(1-delta)) - n_f\n",
    "\n",
    "h_j0_m = round(a_m*nu,1)\n",
    "h_j0_f = round(a_f*nu,1)\n",
    "\n",
    "dd = np.ceil(delta/(1-delta))\n",
    "\n",
    "c_jt = 7 # uh oh 10 doesnt' work is this correct?\n",
    "h_jt = .8\n",
    "# implies \n",
    "a_jt_m, a_jt_w = h_jt/nu, h_jt/nu\n",
    "\n",
    "#a_jt_f = (h_jt - h_j0_f)/nu + a_f\n",
    "#a_jt_m = (h_jt - h_j0_m)/nu + a_m\n",
    "\n",
    "I_jt_m = (h_jt/(1-delta))*(dd*delta**(dd - c_jt - n_m))/(c_jt + n_m)\n",
    "I_jt_f = (h_jt/(1-delta))*(dd*delta**(dd - c_jt - n_f))/(c_jt + n_f)\n",
    "\n",
    "print(round(I_jt_m,2), round(I_jt_f,2))\n",
    "\n",
    "delta**(-n_f), delta**(-n_m)\n",
    "\n",
    "print(round(-n_m*np.log(delta) - np.log(c_jt + n_m),2))\n",
    "print(round(-n_f*np.log(delta) - np.log(c_jt + n_f),2))\n",
    "\n",
    "print(round(delta**(-n_m)/(c_jt + n_m),3))\n",
    "print(round(delta**(-n_f)/(c_jt + n_f),3))"
   ]
  }
 ],
 "metadata": {
  "kernelspec": {
   "display_name": "Python 3",
   "language": "python",
   "name": "python3"
  },
  "language_info": {
   "codemirror_mode": {
    "name": "ipython",
    "version": 3
   },
   "file_extension": ".py",
   "mimetype": "text/x-python",
   "name": "python",
   "nbconvert_exporter": "python",
   "pygments_lexer": "ipython3",
   "version": "3.7.4"
  }
 },
 "nbformat": 4,
 "nbformat_minor": 2
}

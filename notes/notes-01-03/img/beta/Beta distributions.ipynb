{
 "cells": [
  {
   "cell_type": "code",
   "execution_count": 36,
   "metadata": {},
   "outputs": [],
   "source": [
    "import pandas as pd\n",
    "import numpy as np\n",
    "import math\n",
    "\n",
    "from scipy.stats import beta\n",
    "\n",
    "import matplotlib\n",
    "import matplotlib.pyplot as plt\n",
    "matplotlib.use(\"pgf\")\n",
    "plt.rcParams.update({\n",
    "    \"pgf.texsystem\": \"pdflatex\",\n",
    "    'font.family': 'serif',\n",
    "    'font.size': '8',\n",
    "    'text.usetex': True,\n",
    "    'pgf.rcfonts': False,\n",
    "    \"pgf.preamble\": [\n",
    "         r\"\\usepackage[utf8]{inputenc}\",\n",
    "         r\"\\usepackage[T1]{fontenc}\"\n",
    "         ]\n",
    "})\n",
    "\n",
    "matplotlib.rc('font',**{'family':'serif','sans-serif':['Helvetica']})\n",
    "## for Palatino and other serif fonts use:\n",
    "#rc('font',**{'family':'serif','serif':['Palatino']})\n",
    "matplotlib.rc('text', usetex=True)\n",
    "\n",
    "%matplotlib inline\n",
    "\n",
    "#plt.style.use('ggplot')\n",
    "\n",
    "textwidth=6.50127"
   ]
  },
  {
   "cell_type": "code",
   "execution_count": 37,
   "metadata": {
    "scrolled": true
   },
   "outputs": [
    {
     "name": "stderr",
     "output_type": "stream",
     "text": [
      "findfont: Font family ['sans-serif'] not found. Falling back to DejaVu Sans.\n"
     ]
    },
    {
     "data": {
      "image/png": "[encoded data removed]",
      "text/plain": [
       "<Figure size 280.855x187.237 with 1 Axes>"
      ]
     },
     "metadata": {
      "needs_background": "light"
     },
     "output_type": "display_data"
    }
   ],
   "source": [
    "a_f, b_f = 3*2, 2*2\n",
    "a_m, b_m = a_f*4, b_f*4\n",
    "\n",
    "# Mean and sample size\n",
    "mu_m = beta.moment(1,a_m,b_m)\n",
    "mu_f = beta.moment(1,a_f,b_f)\n",
    "n_m, n_f = a_m + b_m, a_f + b_f\n",
    "\n",
    "x = np.linspace(0,1,1000)\n",
    "\n",
    "fig = plt.figure()\n",
    "ax = plt.axes()\n",
    "\n",
    "ax.plot(x, beta.pdf(x,a_m,b_m), \n",
    "        label='Men \\n($\\mu = $' + str(round(mu_m,2)) \n",
    "        + ', $n = $' + str(n_m)\n",
    "        + ')')\n",
    "ax.plot(x, beta.pdf(x,a_f,b_f), \n",
    "        label='Women \\n($\\mu = $' + str(round(mu_f,2)) \n",
    "        + ', $n = $' + str(n_f)\n",
    "        + ')')\n",
    "\n",
    "ax.legend(loc='upper left')\n",
    "ax.set_title('PDF of Beta distribution')\n",
    "\n",
    "fw = textwidth*.6\n",
    "fh = fw*matplotlib.rcParams['figure.figsize'][1]/matplotlib.rcParams['figure.figsize'] [0]\n",
    "fig.set_size_inches(w=fw,h=fh)\n",
    "plt.savefig('beta_example.pgf')\n"
   ]
  }
 ],
 "metadata": {
  "kernelspec": {
   "display_name": "Python 3",
   "language": "python",
   "name": "python3"
  },
  "language_info": {
   "codemirror_mode": {
    "name": "ipython",
    "version": 3
   },
   "file_extension": ".py",
   "mimetype": "text/x-python",
   "name": "python",
   "nbconvert_exporter": "python",
   "pygments_lexer": "ipython3",
   "version": "3.7.4"
  }
 },
 "nbformat": 4,
 "nbformat_minor": 2
}
